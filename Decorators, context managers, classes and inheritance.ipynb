{
 "cells": [
  {
   "cell_type": "markdown",
   "metadata": {},
   "source": [
    "# What are we going to try to cover today?"
   ]
  },
  {
   "cell_type": "markdown",
   "metadata": {},
   "source": []
  },
  {
   "cell_type": "markdown",
   "metadata": {},
   "source": [
    "# Context Managers and Decorators "
   ]
  },
  {
   "cell_type": "markdown",
   "metadata": {},
   "source": [
    "Let's import everything we need first.. "
   ]
  },
  {
   "cell_type": "code",
   "execution_count": 52,
   "metadata": {},
   "outputs": [],
   "source": [
    "from sklearn.ensemble import RandomForestClassifier, AdaBoostClassifier, ExtraTreesClassifier\n",
    "from sklearn.model_selection import train_test_split\n",
    "from sklearn.metrics import accuracy_score\n",
    "from contextlib import contextmanager\n",
    "from datetime import datetime\n",
    "from sklearn.metrics import classification_report \n",
    "import json\n",
    "from functools import wraps \n",
    "import numpy as np\n"
   ]
  },
  {
   "cell_type": "markdown",
   "metadata": {},
   "source": [
    "## What are context managers???\n",
    "\n",
    "Context managers allow you to allocate and release resources precisely when you want to.  - Taken from pythontips.com\n",
    "\n",
    "Examples include operations where you might want to carry out an action and then yield the workspace to a different process before completing the action. \n",
    "\n"
   ]
  },
  {
   "cell_type": "code",
   "execution_count": 27,
   "metadata": {
    "collapsed": true
   },
   "outputs": [
    {
     "name": "stdout",
     "output_type": "stream",
     "text": [
      "Hello! What is your name?!\n",
      "My name is Daria\n",
      "Nice to meet you. Welcome to an advance python crash course!\n"
     ]
    }
   ],
   "source": [
    "@contextmanager\n",
    "def conversation_printer():\n",
    "    print(\"Hello! What is your name?!\")\n",
    "    yield\n",
    "    print(\"Nice to meet you. Welcome to an advance python crash course!\")\n",
    "\n",
    "\n",
    "with conversation_printer():\n",
    "    print(\"My name is Daria\")"
   ]
  },
  {
   "cell_type": "markdown",
   "metadata": {},
   "source": [
    "What are some of the other more common ways we use context managers in Python?\n",
    "File writing! Have you ever seen this?\n"
   ]
  },
  {
   "cell_type": "code",
   "execution_count": 28,
   "metadata": {},
   "outputs": [],
   "source": [
    "with open(\"dummy_file.txt\", \"w+\") as f:\n",
    "    f.write(\"Hello!\")"
   ]
  },
  {
   "cell_type": "markdown",
   "metadata": {},
   "source": [
    "What does this look like under the hood?"
   ]
  },
  {
   "cell_type": "code",
   "execution_count": 32,
   "metadata": {},
   "outputs": [],
   "source": [
    "@contextmanager\n",
    "def open(name, mode):\n",
    "    f = open(name, mode)\n",
    "    try:\n",
    "        yield f\n",
    "    finally:\n",
    "        f.close()"
   ]
  },
  {
   "cell_type": "markdown",
   "metadata": {},
   "source": [
    "Quick distinction here is that you can acocunt for fault tolerance within a context manager by\n",
    "using try/except/finally. With this you can ensure that if the yielded process is of not acceptable kind\n",
    "the operation does not complete or completes in a specific logic.\n"
   ]
  },
  {
   "cell_type": "markdown",
   "metadata": {},
   "source": [
    "## Decorators wrap functions and can be used to provide extra functionality, or decorating processes"
   ]
  },
  {
   "cell_type": "code",
   "execution_count": 34,
   "metadata": {
    "collapsed": true
   },
   "outputs": [
    {
     "name": "stdout",
     "output_type": "stream",
     "text": [
      "Meow\n"
     ]
    }
   ],
   "source": [
    "def cat():\n",
    "    return \"Cat\"\n",
    "def dog():\n",
    "    return \"Dog\"\n",
    "def piglet():\n",
    "    return \"piglet\"\n",
    "\n",
    "def sound_maker(func):\n",
    "    def wrapper():\n",
    "        animal = func()\n",
    "        if animal ==\"Cat\":\n",
    "            print('Meow')\n",
    "        elif animal ==\"Dog\":\n",
    "            print(\"Woof\")\n",
    "        else:\n",
    "            print(\"Not sure what this animal is?!\")\n",
    "    return wrapper\n",
    "\n",
    "wrapped_object = sound_maker(cat)\n",
    "wrapped_object()"
   ]
  },
  {
   "cell_type": "markdown",
   "metadata": {},
   "source": [
    "Let's take this a step further... using the @ magic symbol while not having to utilize sound_maker() at all!\n"
   ]
  },
  {
   "cell_type": "code",
   "execution_count": 35,
   "metadata": {
    "collapsed": true
   },
   "outputs": [
    {
     "name": "stdout",
     "output_type": "stream",
     "text": [
      "Cat\n",
      "Says Meow\n"
     ]
    }
   ],
   "source": [
    "def sound_maker(func):\n",
    "    def wrapper():\n",
    "        func()\n",
    "        print(\"Says Meow\")\n",
    "    return wrapper\n",
    "\n",
    "@sound_maker\n",
    "def animal():\n",
    "    print(\"Cat\")\n",
    "\n",
    "animal()"
   ]
  },
  {
   "cell_type": "markdown",
   "metadata": {},
   "source": [
    "## How do we use context managers and decorators to take our machine learning to the next level?"
   ]
  },
  {
   "cell_type": "code",
   "execution_count": 4,
   "metadata": {},
   "outputs": [],
   "source": [
    "from sklearn import datasets\n",
    "import pandas as pd\n",
    "iris = datasets.load_iris(as_frame = True)\n",
    "\n",
    "y = iris['target']\n",
    "x = iris['data']"
   ]
  },
  {
   "cell_type": "code",
   "execution_count": 5,
   "metadata": {},
   "outputs": [
    {
     "data": {
      "text/html": [
       "<div>\n",
       "<style scoped>\n",
       "    .dataframe tbody tr th:only-of-type {\n",
       "        vertical-align: middle;\n",
       "    }\n",
       "\n",
       "    .dataframe tbody tr th {\n",
       "        vertical-align: top;\n",
       "    }\n",
       "\n",
       "    .dataframe thead th {\n",
       "        text-align: right;\n",
       "    }\n",
       "</style>\n",
       "<table border=\"1\" class=\"dataframe\">\n",
       "  <thead>\n",
       "    <tr style=\"text-align: right;\">\n",
       "      <th></th>\n",
       "      <th>sepal length (cm)</th>\n",
       "      <th>sepal width (cm)</th>\n",
       "      <th>petal length (cm)</th>\n",
       "      <th>petal width (cm)</th>\n",
       "    </tr>\n",
       "  </thead>\n",
       "  <tbody>\n",
       "    <tr>\n",
       "      <th>0</th>\n",
       "      <td>5.1</td>\n",
       "      <td>3.5</td>\n",
       "      <td>1.4</td>\n",
       "      <td>0.2</td>\n",
       "    </tr>\n",
       "    <tr>\n",
       "      <th>1</th>\n",
       "      <td>4.9</td>\n",
       "      <td>3.0</td>\n",
       "      <td>1.4</td>\n",
       "      <td>0.2</td>\n",
       "    </tr>\n",
       "    <tr>\n",
       "      <th>2</th>\n",
       "      <td>4.7</td>\n",
       "      <td>3.2</td>\n",
       "      <td>1.3</td>\n",
       "      <td>0.2</td>\n",
       "    </tr>\n",
       "    <tr>\n",
       "      <th>3</th>\n",
       "      <td>4.6</td>\n",
       "      <td>3.1</td>\n",
       "      <td>1.5</td>\n",
       "      <td>0.2</td>\n",
       "    </tr>\n",
       "    <tr>\n",
       "      <th>4</th>\n",
       "      <td>5.0</td>\n",
       "      <td>3.6</td>\n",
       "      <td>1.4</td>\n",
       "      <td>0.2</td>\n",
       "    </tr>\n",
       "  </tbody>\n",
       "</table>\n",
       "</div>"
      ],
      "text/plain": [
       "   sepal length (cm)  sepal width (cm)  petal length (cm)  petal width (cm)\n",
       "0                5.1               3.5                1.4               0.2\n",
       "1                4.9               3.0                1.4               0.2\n",
       "2                4.7               3.2                1.3               0.2\n",
       "3                4.6               3.1                1.5               0.2\n",
       "4                5.0               3.6                1.4               0.2"
      ]
     },
     "execution_count": 5,
     "metadata": {},
     "output_type": "execute_result"
    }
   ],
   "source": [
    "x.head()"
   ]
  },
  {
   "cell_type": "code",
   "execution_count": 6,
   "metadata": {
    "scrolled": true
   },
   "outputs": [
    {
     "data": {
      "text/plain": [
       "0    0\n",
       "1    0\n",
       "2    0\n",
       "3    0\n",
       "4    0\n",
       "Name: target, dtype: int64"
      ]
     },
     "execution_count": 6,
     "metadata": {},
     "output_type": "execute_result"
    }
   ],
   "source": [
    "y.head()"
   ]
  },
  {
   "cell_type": "markdown",
   "metadata": {},
   "source": [
    "Train test split the data and load necessary classes/functions"
   ]
  },
  {
   "cell_type": "code",
   "execution_count": 7,
   "metadata": {},
   "outputs": [],
   "source": [
    "xtrain, xtest, ytrain, ytest = train_test_split(x, y)"
   ]
  },
  {
   "cell_type": "markdown",
   "metadata": {},
   "source": [
    "Fit models"
   ]
  },
  {
   "cell_type": "markdown",
   "metadata": {},
   "source": [
    "### Take 1 .... "
   ]
  },
  {
   "cell_type": "code",
   "execution_count": 6,
   "metadata": {},
   "outputs": [
    {
     "data": {
      "text/plain": [
       "0.9210526315789473"
      ]
     },
     "execution_count": 6,
     "metadata": {},
     "output_type": "execute_result"
    }
   ],
   "source": [
    "rf = RandomForestClassifier()\n",
    "rf.fit(xtrain, ytrain)\n",
    "y_pred = rf.predict(xtest)\n",
    "accuracy_score(ytest, y_pred)"
   ]
  },
  {
   "cell_type": "markdown",
   "metadata": {},
   "source": [
    "### Take 2 ... "
   ]
  },
  {
   "cell_type": "code",
   "execution_count": 7,
   "metadata": {},
   "outputs": [
    {
     "data": {
      "text/plain": [
       "0.9473684210526315"
      ]
     },
     "execution_count": 7,
     "metadata": {},
     "output_type": "execute_result"
    }
   ],
   "source": [
    "rf = AdaBoostClassifier()\n",
    "rf.fit(xtrain, ytrain)\n",
    "y_pred = rf.predict(xtest)\n",
    "accuracy_score(ytest, y_pred)"
   ]
  },
  {
   "cell_type": "markdown",
   "metadata": {},
   "source": [
    "### Take 3 ... "
   ]
  },
  {
   "cell_type": "code",
   "execution_count": 8,
   "metadata": {},
   "outputs": [
    {
     "data": {
      "text/plain": [
       "0.9210526315789473"
      ]
     },
     "execution_count": 8,
     "metadata": {},
     "output_type": "execute_result"
    }
   ],
   "source": [
    "rf = ExtraTreesClassifier()\n",
    "rf.fit(xtrain, ytrain)\n",
    "y_pred = rf.predict(xtest)\n",
    "accuracy_score(ytest, y_pred)"
   ]
  },
  {
   "cell_type": "markdown",
   "metadata": {},
   "source": [
    "### And so on ... Isn't this annoying ? Also not DRY (Don't Repeat Yourself) "
   ]
  },
  {
   "cell_type": "markdown",
   "metadata": {},
   "source": [
    "Make a function for it... "
   ]
  },
  {
   "cell_type": "code",
   "execution_count": 8,
   "metadata": {},
   "outputs": [],
   "source": [
    "def fitter(model, xtrain, xtest, ytrain, ytest): \n",
    "    md = model()\n",
    "    md.fit(xtrain, ytrain)\n",
    "    y_pred = md.predict(xtest)\n",
    "    return accuracy_score(ytest, y_pred), y_pred, model"
   ]
  },
  {
   "cell_type": "code",
   "execution_count": 9,
   "metadata": {},
   "outputs": [],
   "source": [
    "xtrain, xtest, ytrain, ytest = train_test_split(x, y)\n",
    "score, prediction, fmodel = fitter(RandomForestClassifier, xtrain, xtest, ytrain, ytest)"
   ]
  },
  {
   "cell_type": "code",
   "execution_count": 10,
   "metadata": {
    "collapsed": true
   },
   "outputs": [
    {
     "name": "stdout",
     "output_type": "stream",
     "text": [
      "1.0\n"
     ]
    }
   ],
   "source": [
    "print(score)"
   ]
  },
  {
   "cell_type": "markdown",
   "metadata": {},
   "source": [
    "What else is better? Let's keep track of what we run with that function and its outputs "
   ]
  },
  {
   "cell_type": "code",
   "execution_count": 14,
   "metadata": {},
   "outputs": [],
   "source": [
    "registry = {}\n",
    "def model_registry(function): \n",
    "    @wraps(function)\n",
    "    def wrapped(*args, **kwargs): \n",
    "        score, prediction, fmodel = function(*args, **kwargs)\n",
    "        registry[args[0].__name__] = {'score': score, 'prediction': prediction} \n",
    "        return score, prediction, fmodel\n",
    "    return wrapped"
   ]
  },
  {
   "cell_type": "code",
   "execution_count": 15,
   "metadata": {},
   "outputs": [],
   "source": [
    "@model_registry\n",
    "def fitter(model, xtrain, xtest, ytrain, ytest): \n",
    "    md = model()\n",
    "    md.fit(xtrain, ytrain)\n",
    "    y_pred = md.predict(xtest)\n",
    "    return accuracy_score(ytest, y_pred), y_pred, md"
   ]
  },
  {
   "cell_type": "code",
   "execution_count": 16,
   "metadata": {},
   "outputs": [],
   "source": [
    "score, prediction, fmodel = fitter(RandomForestClassifier, xtrain, xtest, ytrain, ytest)\n",
    "score, prediction, fmodel = fitter(ExtraTreesClassifier, xtrain, xtest, ytrain, ytest)\n",
    "score, prediction, fmodel = fitter(AdaBoostClassifier, xtrain, xtest, ytrain, ytest)"
   ]
  },
  {
   "cell_type": "code",
   "execution_count": 17,
   "metadata": {
    "collapsed": true
   },
   "outputs": [
    {
     "data": {
      "text/plain": [
       "{'RandomForestClassifier': {'score': 0.9210526315789473,\n",
       "  'prediction': array([1, 2, 2, 0, 1, 2, 2, 2, 2, 2, 0, 0, 2, 1, 0, 2, 0, 1, 0, 0, 0, 0,\n",
       "         2, 2, 0, 0, 2, 1, 0, 0, 1, 1, 1, 2, 1, 0, 0, 0])},\n",
       " 'ExtraTreesClassifier': {'score': 0.9210526315789473,\n",
       "  'prediction': array([1, 2, 2, 0, 1, 2, 2, 2, 2, 2, 0, 0, 2, 1, 0, 2, 0, 1, 0, 0, 0, 0,\n",
       "         2, 2, 0, 0, 2, 1, 0, 0, 1, 1, 1, 2, 1, 0, 0, 0])},\n",
       " 'AdaBoostClassifier': {'score': 0.9210526315789473,\n",
       "  'prediction': array([1, 2, 2, 0, 1, 2, 2, 2, 2, 2, 0, 0, 2, 1, 0, 2, 0, 1, 0, 0, 0, 0,\n",
       "         2, 2, 0, 0, 2, 1, 0, 0, 1, 1, 1, 2, 1, 0, 0, 0])}}"
      ]
     },
     "execution_count": 17,
     "metadata": {},
     "output_type": "execute_result"
    }
   ],
   "source": [
    "registry"
   ]
  },
  {
   "cell_type": "markdown",
   "metadata": {},
   "source": [
    "## Context Managers"
   ]
  },
  {
   "cell_type": "code",
   "execution_count": 19,
   "metadata": {},
   "outputs": [],
   "source": [
    "@contextmanager\n",
    "def write_signature(*args, **kwargs): \n",
    "    with open(*args, **kwargs) as f: \n",
    "        yield f "
   ]
  },
  {
   "cell_type": "code",
   "execution_count": 20,
   "metadata": {},
   "outputs": [],
   "source": [
    "def model_registry(function): \n",
    "    @wraps(function)\n",
    "    def wrapped(*args, **kwargs): \n",
    "        score, prediction, fmodel = function(*args, **kwargs)\n",
    "        registry[args[0].__name__] = {'score': score, 'prediction': prediction} \n",
    "        with write_signature(\"{}_report.txt\".format(datetime.today().strftime('%Y-%m-%d')), mode = 'w+') as f: \n",
    "            report = classification_report(args[4], prediction)\n",
    "            f.write(args[0].__name__ + \"\\n\" + report)\n",
    "        return score, prediction, fmodel\n",
    "    return wrapped"
   ]
  },
  {
   "cell_type": "code",
   "execution_count": 21,
   "metadata": {},
   "outputs": [],
   "source": [
    "@model_registry\n",
    "def fitter(model, xtrain, xtest, ytrain, ytest): \n",
    "    md = model()\n",
    "    md.fit(xtrain, ytrain)\n",
    "    y_pred = md.predict(xtest)\n",
    "    return accuracy_score(ytest, y_pred), y_pred, md"
   ]
  },
  {
   "cell_type": "code",
   "execution_count": 22,
   "metadata": {},
   "outputs": [],
   "source": [
    "registry = {}\n",
    "score, prediction, fmodel = fitter(AdaBoostClassifier, xtrain, xtest, ytrain, ytest)"
   ]
  },
  {
   "cell_type": "code",
   "execution_count": 23,
   "metadata": {
    "collapsed": true
   },
   "outputs": [
    {
     "data": {
      "text/plain": [
       "{'AdaBoostClassifier': {'score': 0.9736842105263158,\n",
       "  'prediction': array([2, 0, 0, 1, 0, 2, 0, 2, 0, 0, 0, 0, 0, 1, 0, 1, 0, 2, 0, 2, 1, 0,\n",
       "         1, 1, 0, 2, 0, 0, 2, 1, 2, 0, 2, 0, 1, 1, 2, 2])}}"
      ]
     },
     "execution_count": 23,
     "metadata": {},
     "output_type": "execute_result"
    }
   ],
   "source": [
    "registry"
   ]
  },
  {
   "cell_type": "markdown",
   "metadata": {},
   "source": [
    "# Python Classes, Methods and Inheritance"
   ]
  },
  {
   "cell_type": "code",
   "execution_count": 45,
   "metadata": {},
   "outputs": [],
   "source": [
    "class MyFancyClass:\n",
    "    def __init__(self): \n",
    "        self.my_attribute = \"I am fancy!\"\n",
    "        pass \n",
    "    def my_fancy_method(self):\n",
    "        print(\"I am busy, dont' bother me. I am fancy!\")\n",
    "#     def __call__(self):\n",
    "#         pass\n",
    "#     def __str__(self): \n",
    "#         pass \n",
    "#     def __repr__(self): \n",
    "#         pass\n",
    "#     def __get__(self): \n",
    "#         pass\n",
    "#     def __set__(self): \n",
    "#         pass \n",
    "    # and more!!! \n",
    "    "
   ]
  },
  {
   "cell_type": "markdown",
   "metadata": {},
   "source": [
    "You can think of classess as cookiecutters for or factories for producing similar products with variations. For example you can have a class for creating a car, but cars can be of different brands: BMW, Honda, Ferrari and ect! "
   ]
  },
  {
   "cell_type": "markdown",
   "metadata": {},
   "source": [
    "Methods are functions that are inherent to classes. Attributes are variables that are assigned to a class. Class attributes are same accross all classes, object attributes are object speicfic. We won't worry about class methods or attributes in this section but we'll touch on them in later sections."
   ]
  },
  {
   "cell_type": "code",
   "execution_count": 46,
   "metadata": {},
   "outputs": [],
   "source": [
    "my_class = MyFancyClass()"
   ]
  },
  {
   "cell_type": "code",
   "execution_count": 47,
   "metadata": {
    "collapsed": true
   },
   "outputs": [
    {
     "data": {
      "text/plain": [
       "'I am fancy!'"
      ]
     },
     "execution_count": 47,
     "metadata": {},
     "output_type": "execute_result"
    }
   ],
   "source": [
    "my_class.my_attribute"
   ]
  },
  {
   "cell_type": "code",
   "execution_count": 48,
   "metadata": {
    "collapsed": true
   },
   "outputs": [
    {
     "name": "stdout",
     "output_type": "stream",
     "text": [
      "I am busy, dont' bother me. I am fancy!\n"
     ]
    }
   ],
   "source": [
    "my_class.my_fancy_method()"
   ]
  },
  {
   "cell_type": "code",
   "execution_count": 50,
   "metadata": {
    "collapsed": true
   },
   "outputs": [
    {
     "name": "stdout",
     "output_type": "stream",
     "text": [
      "My current mood is sad\n",
      "Time to hug child!\n",
      "And now my mood is happy\n"
     ]
    }
   ],
   "source": [
    "# Examples from \"Learn Python 3 the Hard Way\" by Zed A Shaw\n",
    "\n",
    "class Parent(object):\n",
    "    def __init__(self):\n",
    "        self.phone_type = \"iphone\"\n",
    "        # self.mood = \"happy\" # if I change this attribute here, it won't get inherited!\n",
    "\n",
    "    def implicit(self):\n",
    "        print(f'I am a person with {self.phone_type}')\n",
    "\n",
    "    def override(self):\n",
    "        print(\"I have an {}\".format(self.phone_type))\n",
    "\n",
    "    def altered(self):\n",
    "        self.mood = \"happy\"\n",
    "        print(\"Time to hug child!\")\n",
    "\n",
    "\n",
    "class Child(Parent):  # Child will inherit from Parent\n",
    "    def __init__(self):\n",
    "        self.phone_type = \"samsung\"\n",
    "        self.mood = \"sad\"\n",
    "\n",
    "    def override(self):\n",
    "        print(\"Override in Child\")\n",
    "        print(\"I have an {}\".format(self.phone_type))\n",
    "\n",
    "    def altered(self):\n",
    "        print(\"My current mood is {}\".format(self.mood))\n",
    "        super().altered()\n",
    "        print(\"And now my mood is {}\".format(self.mood))\n",
    "\n",
    "\n",
    "parent = Parent()\n",
    "child = Child()\n",
    "\n",
    "# parent.implicit()\n",
    "# child.implicit()  # we'll inherit directly from the Parent class\n",
    "#\n",
    "# parent.override()\n",
    "# child.override()  # we override the parent class. We want the functionality of this class to behave differently\n",
    "#\n",
    "child.altered()  # note that when I call super I can change the attributes in the child class!\n"
   ]
  },
  {
   "cell_type": "code",
   "execution_count": 49,
   "metadata": {
    "collapsed": true
   },
   "outputs": [
    {
     "name": "stdout",
     "output_type": "stream",
     "text": [
      "b\n",
      "(<class '__main__.D'>, <class '__main__.B'>, <class '__main__.C'>, <class '__main__.A'>, <class 'object'>)\n"
     ]
    }
   ],
   "source": [
    "# From Learn Web Development with Python by Fabrizio Romano\n",
    "\n",
    "# Using inheritance often leads to multiple inheritance problems, known as \"diamond inheritance\"\n",
    "\n",
    "\n",
    "class A:\n",
    "    def print_name(self):\n",
    "      print(\"a\")\n",
    "\n",
    "\n",
    "class B(A):\n",
    "    def print_name(self):\n",
    "      print(\"b\")\n",
    "\n",
    "\n",
    "class C(A):\n",
    "    def print_name(self):\n",
    "      print(\"c\")\n",
    "\n",
    "\n",
    "class D(B, C):\n",
    "    pass\n",
    "\n",
    "\n",
    "d = D()\n",
    "d.print_name()  # label could almost be either c or b!\n",
    "print(d.__class__.__mro__)  # MRO = method resolution order, a way to see how to go up the ladder of inheritance\n"
   ]
  },
  {
   "cell_type": "markdown",
   "metadata": {},
   "source": [
    "## Why would you need classes? "
   ]
  },
  {
   "cell_type": "markdown",
   "metadata": {},
   "source": [
    "Have you ever wondered, how can create my own scikit-learn like model? You can do precisely that with classes. Moreover you can take scikit-learn classes and modify them however you like!"
   ]
  },
  {
   "cell_type": "code",
   "execution_count": 53,
   "metadata": {},
   "outputs": [],
   "source": [
    "class AdjustmentTransformer(object): \n",
    "    def __init__(self, input_array):\n",
    "        self.array = input_array\n",
    "    def fit(self):\n",
    "        mean = np.mean(self.array)\n",
    "        self.adjusted_array = self.array + mean \n",
    "    def predict(self): \n",
    "        return self.adjusted_array"
   ]
  },
  {
   "cell_type": "code",
   "execution_count": 54,
   "metadata": {},
   "outputs": [],
   "source": [
    "transformer = AdjustmentTransformer(np.array([37.5, 22, 54.2, 11.75, 90.89]))"
   ]
  },
  {
   "cell_type": "code",
   "execution_count": 55,
   "metadata": {},
   "outputs": [],
   "source": [
    "transformer.fit()"
   ]
  },
  {
   "cell_type": "code",
   "execution_count": 56,
   "metadata": {},
   "outputs": [
    {
     "data": {
      "text/plain": [
       "array([ 80.768,  65.268,  97.468,  55.018, 134.158])"
      ]
     },
     "execution_count": 56,
     "metadata": {},
     "output_type": "execute_result"
    }
   ],
   "source": [
    "transformer.predict()"
   ]
  }
 ],
 "metadata": {
  "kernelspec": {
   "display_name": "Python 3",
   "language": "python",
   "name": "python3"
  },
  "language_info": {
   "codemirror_mode": {
    "name": "ipython",
    "version": 3
   },
   "file_extension": ".py",
   "mimetype": "text/x-python",
   "name": "python",
   "nbconvert_exporter": "python",
   "pygments_lexer": "ipython3",
   "version": "3.7.5"
  }
 },
 "nbformat": 4,
 "nbformat_minor": 4
}
